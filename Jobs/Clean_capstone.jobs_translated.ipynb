{
 "cells": [
  {
   "cell_type": "code",
   "execution_count": 33,
   "metadata": {},
   "outputs": [],
   "source": [
    "import pandas as pd\n",
    "from sql import get_data\n",
    "import warnings\n",
    "warnings.filterwarnings(\"ignore\")\n",
    "import psycopg2 # Needed to get database errors when uploading dataframe\n",
    "import sqlalchemy\n",
    "import nltk  \n",
    "import string\n",
    "from nltk.corpus import stopwords\n",
    "import os\n",
    "import psycopg2 # Needed to get database errors when uploading dataframe\n",
    "import sql\n",
    "import sqlalchemy"
   ]
  },
  {
   "cell_type": "code",
   "execution_count": null,
   "metadata": {},
   "outputs": [],
   "source": [
    "nltk.download('stopwords')"
   ]
  },
  {
   "cell_type": "code",
   "execution_count": 2,
   "metadata": {},
   "outputs": [],
   "source": [
    "clean_jobs = get_data('SELECT * FROM capstone.jobs_translated')"
   ]
  },
  {
   "cell_type": "code",
   "execution_count": 3,
   "metadata": {},
   "outputs": [],
   "source": [
    "jobs_new = clean_jobs[['id','job_id', 'posted_date', 'company_name', 'job_title_en2', 'job_description', 'city', 'state', 'country']]"
   ]
  },
  {
   "cell_type": "code",
   "execution_count": 4,
   "metadata": {},
   "outputs": [],
   "source": [
    "jobs_new['job_title_en'] = jobs_new['job_title_en2']"
   ]
  },
  {
   "cell_type": "code",
   "execution_count": 5,
   "metadata": {},
   "outputs": [],
   "source": [
    "jobs_complete = jobs_new[['id','job_id', 'posted_date', 'company_name', 'job_title_en', 'job_description', 'city', 'state', 'country']]"
   ]
  },
  {
   "cell_type": "code",
   "execution_count": null,
   "metadata": {},
   "outputs": [],
   "source": [
    "jobs_complete.head()"
   ]
  },
  {
   "cell_type": "code",
   "execution_count": 10,
   "metadata": {},
   "outputs": [],
   "source": [
    "region_category = {\n",
    "    'Europe' : ['Ukraine', 'France', 'Spain', 'Sweden', 'Norway', 'Germany', 'Finland', 'Poland', 'Italy', 'United Kingdom', \n",
    "                'Romania', 'Belarus', 'Kazakhstan', 'Greece', 'Bulgaria', 'Iceland', 'Hungary', 'Portugal', 'Serbia', 'Austria', \n",
    "                'Czech Republic', 'Ireland', 'Lithuania', 'Latvia', 'Croatia', 'Bosnia and Herzegovina', 'Slovakia', 'Estonia', \n",
    "                'Denmark', 'Switzerland', 'Netherlands', 'Moldova', 'Belgium', 'Albania', 'North Macedonia', 'Slovenia', \n",
    "                'Montenegro', 'Kosovo', 'Azerbaijan', 'Luxembourg', 'Andorra', 'Malta', 'Liechtenstein', 'San Marino', \n",
    "                'Monaco', 'Vatican City', 'Cyprus',  'Czechia', 'Czech Republic'],\n",
    "\n",
    "    'Africa' : ['Nigeria', 'Ethiopia', 'Egypt', 'DR Congo', 'Tanzania', 'South Africa', 'Kenya', 'Uganda', 'Algeria', \n",
    "                'Sudan', 'Morocco', 'Angola', 'Mozambique', 'Ghana', 'Madagascar', 'Cameroon', 'Niger', 'Burkina Faso', 'Mali', \n",
    "                'Malawi', 'Zambia', 'Senegal', 'Chad', 'Somalia', 'Zimbabwe', 'Guinea', 'Rwanda', 'Benin', 'Burundi', 'Tunisia', \n",
    "                'South Sudan', 'Togo', 'Sierra Leone', 'Libya', 'Congo', 'Liberia', 'Central African Republic', 'Mauritania', 'Eritrea', \n",
    "                'Namibia', 'Gambia', 'Botswana', 'Gabon', 'Lesotho', 'Guinea-Bissau', 'Equatorial Guinea', 'Mauritius', 'Eswatini', 'Djibouti'],\n",
    "\n",
    "'Middle East' : ['Turkey', 'Bahrain', 'Kuwait', 'Oman', 'Qatar', 'Saudi Arabia', 'United Arab Emirates', 'Yemen', 'Abkhazia', 'Armenia', \n",
    "                'Artsakh', 'Azerbaijan', 'Georgia', 'South Ossetia', 'Iraq', 'Israel', 'Jordan', 'Lebanon', 'Palestine', 'Syria', 'Iran', \n",
    "                'Akrotiri and Dhekelia', 'Cyprus'],\n",
    "                \n",
    "'North America' : ['USA', 'Alabama', 'Alaska', 'Arizona', 'Arkansas', 'California', 'Colorado', 'Connecticut', 'Delaware', 'Florida', \n",
    "                'Georgia', 'Hawaii', 'Idaho', 'Illinois', 'Indiana', 'Iowa', 'Kansas', 'Kentucky', 'Louisiana', 'Maine', 'Maryland', \n",
    "                'Massachusetts', 'Michigan', 'Minnesota', 'Mississippi', 'Missouri', 'Montana', 'Nebraska', 'Nevada', 'New Hampshire', \n",
    "                'New Jersey', 'New Mexico', 'New York', 'North Carolina', 'North Dakota', 'Ohio', 'Oklahoma', 'Oregon', 'Pennsylvania', \n",
    "                'Rhode Island', 'South Carolina', 'South Dakota', 'Tennessee', 'Texas', 'Utah', 'Vermont', 'Virginia', 'Washington', \n",
    "                'West Virginia', 'Wisconsin', 'Wyoming', 'Canada', 'AL', 'AK', 'AZ', 'AR', 'CA', 'CO', 'CT', 'DE', 'FL', 'GA', 'HI', \n",
    "                'ID', 'IL', 'IN', 'IA', 'KS', 'KY', 'LA', 'ME', 'MD', 'MA', 'MI', 'MN', 'MS', 'MO', 'MT', 'NE', 'NV', 'NH', 'NJ', 'NM', \n",
    "                'NY', 'NC', 'ND', 'OH', 'OK', 'OR', 'PA', 'RI', 'SC', 'SD', 'TN', 'TX', 'UT', 'VT', 'VA', 'WA', 'WV', 'WI', 'WY'],\n",
    "\n",
    "'Central America' : ['Mexico', 'Guatemala', 'Cuba', 'Haiti', 'Dominican Republic', 'Honduras', 'Nicaragua', 'El Salvador', 'Costa Rica', 'Panama', \n",
    "                    'Jamaica', 'Trinidad and Tobago', 'Belize', 'Bahamas', 'Barbados', 'Saint Lucia', 'Grenada', 'Antigua and Barbuda', 'Dominica', \n",
    "                    'Saint Kitts and Nevis'],\n",
    "\n",
    "'South America' : ['Argentina', 'Bolivia', 'Bouvet Island', 'Brazil', 'Chile', 'Colombia', 'Ecuador', 'Falkland Islands', 'French Guiana', \n",
    "                'Guyana', 'Paraguay', 'Peru', 'South Georgia', 'Suriname', 'Uruguay', 'Venezuela', 'South Sandwich Islands'],\n",
    "\n",
    "'South Asia' : ['Afghanistan', 'Bangladesh', 'Bhutan', 'India', 'Nepal', 'Maldives', 'Pakistan', 'Sri Lanka'],\n",
    "\n",
    "'Southeast Asia' : ['Brunei', 'Cambodia', 'East Timor', 'Indonesia', 'Laos', 'Malaysia', 'Myanmar', 'Philippines', 'Singapore', 'Thailand', 'Vietnam'],\n",
    "\n",
    "'Central Asia' : ['Kazakhstan', 'Kyrgyzstan', 'Tajikistan', 'Turkmenistan', 'Uzbekistan'],\n",
    "\n",
    "'East Asia' : ['China', 'Hong Kong', 'Macau', 'Japan', 'Mongolia', 'North Korea', 'South Korea', 'Taiwan']\n",
    "\n",
    "}"
   ]
  },
  {
   "cell_type": "code",
   "execution_count": 28,
   "metadata": {},
   "outputs": [],
   "source": [
    "jobs_complete = jobs_complete.drop(columns='job_title_trans', axis=1)"
   ]
  },
  {
   "cell_type": "code",
   "execution_count": 7,
   "metadata": {},
   "outputs": [],
   "source": [
    "jobs_complete['search_country'] = jobs_complete['country']"
   ]
  },
  {
   "cell_type": "code",
   "execution_count": 19,
   "metadata": {},
   "outputs": [],
   "source": [
    "world_regions = pd.Series([])\n",
    "\n",
    "for row in range(len(jobs_complete)):\n",
    "\n",
    "    for key in region_category:\n",
    "\n",
    "        for value in region_category[key]:\n",
    "            \n",
    "            if jobs_complete['country'][row] == value:\n",
    "                world_regions[row] = key\n",
    "   \n",
    "jobs_complete.insert(9, \"world_region\", world_regions)"
   ]
  },
  {
   "cell_type": "code",
   "execution_count": 21,
   "metadata": {},
   "outputs": [],
   "source": [
    "jobs_complete['job_title_trans'] = jobs_complete['job_title_en']"
   ]
  },
  {
   "cell_type": "code",
   "execution_count": 30,
   "metadata": {},
   "outputs": [],
   "source": [
    "jobs_complete['posted_date'] = pd.to_datetime(jobs_complete['posted_date'], format=\"%Y-%m-%d\")"
   ]
  }
 ],
 "metadata": {
  "interpreter": {
   "hash": "43c12cbf984401a473fdf5ad54be096b36364cb85034417d000695974821cc3f"
  },
  "kernelspec": {
   "display_name": "Python 3.9.12 ('sql-practice')",
   "language": "python",
   "name": "python3"
  },
  "language_info": {
   "codemirror_mode": {
    "name": "ipython",
    "version": 3
   },
   "file_extension": ".py",
   "mimetype": "text/x-python",
   "name": "python",
   "nbconvert_exporter": "python",
   "pygments_lexer": "ipython3",
   "version": "3.9.12"
  },
  "orig_nbformat": 4
 },
 "nbformat": 4,
 "nbformat_minor": 2
}
