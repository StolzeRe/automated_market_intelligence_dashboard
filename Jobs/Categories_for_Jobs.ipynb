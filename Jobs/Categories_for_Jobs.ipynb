{
 "cells": [
  {
   "cell_type": "markdown",
   "metadata": {},
   "source": [
    "## Import everything needed"
   ]
  },
  {
   "cell_type": "code",
   "execution_count": 1,
   "metadata": {},
   "outputs": [],
   "source": [
    "import pandas as pd\n",
    "import numpy as np\n",
    "import requests\n",
    "import os\n",
    "from sql import get_data\n",
    "import psycopg2 # Needed to get database errors when uploading dataframe\n",
    "import sql\n",
    "import sqlalchemy\n",
    "\n",
    "import warnings # hides warning messages\n",
    "warnings.filterwarnings(\"ignore\")\n",
    "import re"
   ]
  },
  {
   "cell_type": "markdown",
   "metadata": {},
   "source": [
    "## Get data from SQL-Database"
   ]
  },
  {
   "cell_type": "code",
   "execution_count": 2,
   "metadata": {},
   "outputs": [],
   "source": [
    "jobs_df = get_data('SELECT * FROM capstone.jobs')"
   ]
  },
  {
   "cell_type": "markdown",
   "metadata": {},
   "source": [
    "## Assigning keywords to Categories"
   ]
  },
  {
   "cell_type": "code",
   "execution_count": 3,
   "metadata": {},
   "outputs": [],
   "source": [
    "keywords = { 1 : ['Account', 'Customer Service', 'Customer Support', 'Customer Journey', 'Customer Training'],\n",
    "\n",
    "             2 : ['student', 'intern', 'graduate', 'trainee', 'students', 'Werkstudent', 'thesis'],\n",
    "\n",
    "             3 : [r'\\bSAP\\b', r'\\bHCM\\b', r'\\bIT\\b', 'Full Stack', 'Front End', 'Back End', 'Software', 'Data Architect', 'Cloud', 'Frontend', \n",
    "                'Backend', 'Front-end', 'Back-end','Artificial Intelligence', 'Machine learning', r'\\bML\\b', r'\\bAI\\b', 'Linux', 'Data Engineer', \n",
    "                'Digital', 'Security Engineer', 'Cybersecurity', 'Cyber', r'\\bSW\\b', 'Embedded', r'\\bC#\\b', '.Net', 'UX/UI', r'\\bUX\\b', r'\\bUI\\b', \n",
    "                'Skywise', 'Network Security'],\n",
    "\n",
    "            4 : ['Supply Chain', 'Material', 'Material Service', 'Warehouse', 'Buyer', 'Logistic', 'Store', 'Storekeeper', 'Customs', 'Export', \n",
    "                'Buying', 'SUPPLIES AND STOCKS', 'Supply Manager', 'Procurement'],\n",
    "\n",
    "            5 : ['Employee Relations', r'\\bHR\\b' , 'Health', 'Welfare', 'Claims', 'Human Resources', 'Recruiter', 'Wellbeing', \n",
    "                'Leave Program', 'HR Analytics', 'HR Executive', 'Recruitment', 'People'],\n",
    "\n",
    "            6 : ['Calibration', 'Quality', 'Quality Engineer', 'Quality Inspector'],\n",
    "\n",
    "            7 : ['Trainer'],\n",
    "\n",
    "            8 : ['Data Analyst', 'Data Science', 'Senior Business', 'Strategy', 'Decision Support', 'Strategic', 'Forecast', 'Business Analyst', \n",
    "                'Operations Analyst', 'Data Scientist', 'Web Analyst', 'Intelligence'],\n",
    "\n",
    "            9 : ['Crafter', 'Craftsman', 'Craftswoman', 'Painting', 'Maintenance', 'Technician', 'Cabin Maintenance', 'Line Maintenance', \n",
    "                'Base Maintenance', 'Heavy Maintenance', 'Component Maintenance', 'Avionic(s)', r'\\bIFE\\b', 'In-Flight Entertainment', 'TechOps', \n",
    "                'AOG', 'Planner', 'Repair. Sheet Metal', r'\\bNDT\\b', r'\\bCNC\\b', 'Machinist', 'Installer', 'Painter', 'Shop Manager', 'Manufacturing', \n",
    "                'Saddler', 'Structure', 'B1', 'B2', 'B1/B2', 'welder', 'technical', 'Aircraft mechanic', 'mechanic', 'Machine Shop'],\n",
    "\n",
    "            10 : ['Invoice', 'Controller', 'Financial', 'Finance', 'Accounting', r'\\bTax\\b', 'Cost Analyst'],\n",
    "\n",
    "            11 : ['Propulsion', r'\\bEngine\\b', r'\\bCFM\\b', r'\\bRR\\b', 'Rolly-Royce', r'\\bPW\\b', 'Engine Mechanic', 'PowerPlant'],\n",
    "\n",
    "            12 : ['Sales', 'Sales Support', 'Sales Development', 'Global Sales', 'Domestic Sales', 'Corporate Sales', 'Sales Account', 'E-Sales', 'Sales Manager'],\n",
    "\n",
    "            13 : ['Fuel Cell, Sustainability', 'Green', 'Hydrogen', 'Zero', 'H2', 'LH2', 'H2 Engineer', 'Hybrid', \n",
    "                 'Electric Propulsion', 'H2 tank', r'\\bSAF\\b', 'sustainable Aviation Fuel', 'climate',  'cryogen'],\n",
    "            \n",
    "            14 : ['Engineer', 'Engineering', 'F&E', r'\\bCAD\\b', 'Service Engineer', 'Repair Development', 'Certification Engineer',\n",
    "                 'Design Engineer', 'Ingénieur', 'Entwicklungsingenieur', 'Ingenieur', 'Test Engineer', 'Weight & Balance', \n",
    "                 'Computational', 'Avionics Engineer', 'Mechanical Engineer', 'Electrical Engineer'],\n",
    "            15 : ['Marketing']\n",
    "}"
   ]
  },
  {
   "cell_type": "markdown",
   "metadata": {},
   "source": [
    "## Loop through complete DF to find categories in 'Job-Title'"
   ]
  },
  {
   "cell_type": "code",
   "execution_count": 4,
   "metadata": {},
   "outputs": [],
   "source": [
    "def find_job_keyword(jobs_df):\n",
    "\n",
    "    for row in range(len(jobs_df)):\n",
    "        for key in keywords:\n",
    "            for value in keywords[key]:\n",
    "                job_title_low = jobs_df['job_title_en'][row].lower()\n",
    "                keyword_low = value.lower()\n",
    "\n",
    "                if re.search(keyword_low, job_title_low):\n",
    "                    save_job_categories(jobs_df['id'][row], key)"
   ]
  },
  {
   "cell_type": "code",
   "execution_count": null,
   "metadata": {},
   "outputs": [],
   "source": [
    "find_job_keyword(jobs_df)"
   ]
  },
  {
   "cell_type": "markdown",
   "metadata": {},
   "source": [
    "# Save categories in database:"
   ]
  },
  {
   "cell_type": "code",
   "execution_count": 5,
   "metadata": {},
   "outputs": [],
   "source": [
    "def save_job_categories(jcat_id, jobs_id):\n",
    "    connection = psycopg2.connect(user=\"postgres\",\n",
    "                                    password=\"]+Dr\\DXm()`o=L:+\",\n",
    "                                    host=\"35.234.81.23\",\n",
    "                                    port=\"5432\",\n",
    "                                    database=\"postgres\")\n",
    "    \n",
    "    try:\n",
    "        \n",
    "        cursor = connection.cursor()\n",
    "\n",
    "        postgres_insert_query = f\"INSERT INTO capstone.jobs_jcat (jobs_id, jcat_id) VALUES ({jobs_id}, {jcat_id})\"\n",
    "        print(postgres_insert_query)\n",
    "        cursor.execute(postgres_insert_query)\n",
    "\n",
    "        connection.commit()\n",
    "        count = cursor.rowcount\n",
    "        print(count, \"Record inserted successfully into mobile table\")\n",
    "\n",
    "    except (Exception, psycopg2.Error) as error:\n",
    "        print(\"Failed to insert record into mobile table\", error)\n",
    "\n",
    "    finally:\n",
    "        # closing database connection.\n",
    "        if connection:\n",
    "            cursor.close()\n",
    "            connection.close()\n",
    "            print(\"PostgreSQL connection is closed\")"
   ]
  }
 ],
 "metadata": {
  "interpreter": {
   "hash": "43c12cbf984401a473fdf5ad54be096b36364cb85034417d000695974821cc3f"
  },
  "kernelspec": {
   "display_name": "Python 3.9.12 ('sql-practice')",
   "language": "python",
   "name": "python3"
  },
  "language_info": {
   "codemirror_mode": {
    "name": "ipython",
    "version": 3
   },
   "file_extension": ".py",
   "mimetype": "text/x-python",
   "name": "python",
   "nbconvert_exporter": "python",
   "pygments_lexer": "ipython3",
   "version": "3.9.12"
  },
  "orig_nbformat": 4
 },
 "nbformat": 4,
 "nbformat_minor": 2
}
