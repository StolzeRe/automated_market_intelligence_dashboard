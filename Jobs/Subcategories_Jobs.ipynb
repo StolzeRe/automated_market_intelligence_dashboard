{
 "cells": [
  {
   "cell_type": "markdown",
   "metadata": {},
   "source": [
    "## Import everything needed"
   ]
  },
  {
   "cell_type": "code",
   "execution_count": 1,
   "metadata": {},
   "outputs": [],
   "source": [
    "import pandas as pd\n",
    "import numpy as np\n",
    "import requests\n",
    "import os\n",
    "from sql import get_data\n",
    "import psycopg2 # Needed to get database errors when uploading dataframe\n",
    "import sql\n",
    "import sqlalchemy\n",
    "# hides warning messages\n",
    "import warnings\n",
    "warnings.filterwarnings(\"ignore\")\n",
    "import re"
   ]
  },
  {
   "cell_type": "markdown",
   "metadata": {},
   "source": [
    "## Get data from SQL-database"
   ]
  },
  {
   "cell_type": "code",
   "execution_count": 3,
   "metadata": {},
   "outputs": [],
   "source": [
    "subcat_df = get_data('''select j.* from capstone.jobs j \n",
    "                            join capstone.jobs_jcat jj\n",
    "                            on j.id = jj.jobs_id\n",
    "                            where jj.jcat_id = 14''')"
   ]
  },
  {
   "cell_type": "code",
   "execution_count": 2,
   "metadata": {},
   "outputs": [],
   "source": [
    "subcategory = {\n",
    "'Customer Support' : ['Field Support Engineer', 'Field Service Support Engineer', 'Product Support Engineering Lead', 'In-Service Solution Design Engineer', \n",
    "                                        'Repair Design Engineer - Back office', 'Product Support Engineer (Electrical System)'],\n",
    "\n",
    "'Development' : ['Aviation Systems Engineer', 'Analog Electronics Engineer Energy Conversion', 'Principal Validation Verification (V&V) Engineer', \n",
    "                'EMC Senior Specialist Engineer', 'Design Engineer', 'Aerospace Data & Process Engineer', 'Performance Dynamics Engineer', \n",
    "                'Aero equipment environmental qualification test engineer', 'Engineer-Expert-e Sauvegarde F / H', \n",
    "                'System Engineer', 'Functional Engineer Industrial Systems & Data', 'Work-study engineer electrical engineer', \n",
    "                'General Aerothermal Engineer', 'Hydraulic Control Systems Engineer', 'Ingenieur conception amelioration LEAP', \n",
    "                'Operational Safety Engineer', 'Calculation Methods Engineer - Bearings & Seals', 'Engineer-Usage Methods & Equipment F / H', \n",
    "                'Inertial physical modeling engineer', 'MdP densification modeling engineer', 'Structural Calculation Methods Engineer -', \n",
    "                'Calculation Tools & Methods Engineer - Tribology', 'PLM Engineer (Product Lifecycle Management)', 'Experienced EMC engineer', \n",
    "                'Electronic Board Development Engineer', 'Senior Product Engineer', 'Reliability, Availability. Maintainability Safety (RAMS) Engineer', \n",
    "                'Performance Dynamics Engineer', 'CAM PROJECT ENGINEER', 'Tooling Engineer', 'Systems Engineer - Safety & Reliability', \n",
    "                'Senior Industrial Innovation Engineer', 'Lead BoM Integration Engineer', 'Tooling Engineer', 'Senior Assembly Methods Engineer', \n",
    "                'Principal Electronics Engineer', 'Senior Simulation Means Engineer', 'Senior V&V Engineer', 'Senior Principal Validation Verification (V&V) Engineer', \n",
    "                'Senior Electronics Engineer', 'Methods Engineer Rotating Parts', 'Calculation Tools & Methods Engineer', 'AASM Product Engineer', 'Engineer BE / MOA H / F', \n",
    "                'Functional Safety Study Engineer', 'HP turbine thermal engineer in-service support', 'Functional pilot PLM/CAD Industrialization Methods', \n",
    "                'Engineer-e specialized machining method costs', 'Engineer Development C optronic models', 'CEPI M&P Patents Engineer', \n",
    "                'Functional System Missile Test Engineer', 'Inertial Equipment System Engineer', 'Patent Engineer EED Pole CEPI', 'Optronic Observation Systems Engineer', \n",
    "                'Optronics System Engineer', 'Airborne Sights System Engineer', 'System Engineer - Combatant Digitization', 'Chemical Engineer', 'Design Engineer', \n",
    "                'Design Engineer - Composites', 'Design Engineer II'],\n",
    "\n",
    "'Managing' : ['Project Engineer', 'Principal Product Engineer', 'Engineering Project Lead', 'SENIOR PRODUCT ENGINEER', 'Senior Configuration Engineer', 'Configuration Management Engineer'],\n",
    "\n",
    "'Process & Improvement' : ['IS industrial Engineer / Analyst', 'Continuous Improvement Engineer', 'Process Development Engineer', 'Process Development Investment Engineer', \n",
    "            'Production industrial performance engineerM/F', 'Process methods engineer', 'Methodist engineer, PLM animator', 'Industrial Methods Engineer', 'Industrial Methods Engineer', \n",
    "            'Aerospace Data & Process Engineer', 'External industrialization pilot engineer', 'IS industrial Engineer / Analyst', 'Facilities Engineer', \n",
    "            'Pilot Support Shop Visit- Industrial Engineering', 'Industrial Engineer', 'Production Engineer', 'Production Engineer', 'Production Engineer'],\n",
    "\n",
    "'Testing' : ['Average test reliability performance engineer', 'Electrical Test Engineer', 'Test & Means Engineer', 'Senior Test & Means Engineer', \n",
    "            'Engineer responsible test benches means testing']\n",
    "}"
   ]
  },
  {
   "cell_type": "code",
   "execution_count": 16,
   "metadata": {},
   "outputs": [],
   "source": [
    "def find_subcategories(subcat_df):\n",
    "    #job_cat = pd.Series([])\n",
    "\n",
    "    for row in range(len(subcat_df)):\n",
    "        for key in subcategory:\n",
    "            for subcat in subcategory[key]:\n",
    "                job_title_low = subcat_df['job_title_en'][row].lower()\n",
    "                subcat_low = subcat.lower()\n",
    "                #print(subcat_low)\n",
    "                #jobs_id = subcat_df['id'][row]\n",
    "\n",
    "                if re.search(subcat_low, job_title_low):\n",
    "                    print(key)\n",
    "                    print(subcat_df['id'][row])\n",
    "                    save_subcategories(key, subcat_df['id'][row])"
   ]
  },
  {
   "cell_type": "code",
   "execution_count": null,
   "metadata": {},
   "outputs": [],
   "source": [
    "find_subcategories(subcat_df)"
   ]
  },
  {
   "cell_type": "code",
   "execution_count": 14,
   "metadata": {},
   "outputs": [],
   "source": [
    "def save_subcategories(subcat, jobs_id):\n",
    "    connection = psycopg2.connect(user=\"postgres\",\n",
    "                                    password=\"password\",\n",
    "                                    host=\"host\",\n",
    "                                    port=\"port\",\n",
    "                                    database=\"postgres\")\n",
    "    \n",
    "    try:\n",
    "        \n",
    "        cursor = connection.cursor()\n",
    "\n",
    "        postgres_insert_query = f\"UPDATE capstone.jobs_jcat SET subcategory = '{subcat}' WHERE jobs_id = {jobs_id}\"\n",
    "        print(postgres_insert_query)\n",
    "        cursor.execute(postgres_insert_query)\n",
    "\n",
    "        connection.commit()\n",
    "        count = cursor.rowcount\n",
    "        print(count, \"Record inserted successfully into mobile table\")\n",
    "\n",
    "    except (Exception, psycopg2.Error) as error:\n",
    "        print(\"Failed to insert record into mobile table\", error)\n",
    "\n",
    "    finally:\n",
    "        # closing database connection.\n",
    "        if connection:\n",
    "            cursor.close()\n",
    "            connection.close()\n",
    "            print(\"PostgreSQL connection is closed\")"
   ]
  }
 ],
 "metadata": {
  "kernelspec": {
   "display_name": "Python 3.9.12 ('sql-practice')",
   "language": "python",
   "name": "python3"
  },
  "language_info": {
   "codemirror_mode": {
    "name": "ipython",
    "version": 3
   },
   "file_extension": ".py",
   "mimetype": "text/x-python",
   "name": "python",
   "nbconvert_exporter": "python",
   "pygments_lexer": "ipython3",
   "version": "3.9.12"
  },
  "orig_nbformat": 4,
  "vscode": {
   "interpreter": {
    "hash": "43c12cbf984401a473fdf5ad54be096b36364cb85034417d000695974821cc3f"
   }
  }
 },
 "nbformat": 4,
 "nbformat_minor": 2
}
