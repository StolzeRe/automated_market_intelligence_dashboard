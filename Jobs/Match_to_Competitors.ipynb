{
 "cells": [
  {
   "cell_type": "markdown",
   "metadata": {},
   "source": [
    "# Import everything we need"
   ]
  },
  {
   "cell_type": "code",
   "execution_count": 14,
   "metadata": {},
   "outputs": [],
   "source": [
    "import pandas as pd\n",
    "import numpy as np\n",
    "import requests\n",
    "import os\n",
    "from sql import get_data\n",
    "import psycopg2 # Needed to get database errors when uploading dataframe\n",
    "import sql\n",
    "import sqlalchemy\n",
    "# hides warning messages\n",
    "import warnings\n",
    "warnings.filterwarnings(\"ignore\")\n",
    "import re"
   ]
  },
  {
   "cell_type": "markdown",
   "metadata": {},
   "source": [
    "## Provider Keywords"
   ]
  },
  {
   "cell_type": "code",
   "execution_count": 15,
   "metadata": {},
   "outputs": [],
   "source": [
    "provider_keywords = {\n",
    "    1 : [r'\\bAFI\\b', 'AFI KLM E&M', 'KLM E&M', 'Prognos', 'Barfield', 'EPCOR', 'Spairliners'],\n",
    "    2 : ['Delta', r'\\bDTO\\b', 'Delta Services', 'Delta Material Services (DMS)', 'Digital Alliance'],\n",
    "    3 : ['SIAEC', 'SIAECo', 'SIA Engineering Company', 'SAESL', 'BAPAS', r'\\bHMS\\b', 'Eagle Services'],\n",
    "    4 : [r'\\bTHY\\b', 'Turkish Airlines Technic', 'Habom', 'Habom MRO Center'],\n",
    "    5 : ['AJW', 'AJ Walter Technique'],\n",
    "    6 : [r'\\bSRT\\b', 'SRT Malta'],\n",
    "    7 : [r'\\bSTA\\b', 'ST Engineering', 'STENG', 'VT Aerospace'],\n",
    "    8 : ['Carlyle', 'Carlyle Group', 'Standard Aero'],\n",
    "    9 : ['AAR Corp', 'StAAR* (Strategic Tools by AAR) ', 'IMOPS* (Inventory Management and Order Processing System)', \n",
    "        'APRISe* (AAR Performance Reporting Information System)'],\n",
    "    10 : ['Services by Airbus', 'Skywise', 'FHS Services', 'Flight Hour Services', 'SATAIR'],\n",
    "    11 : ['Boeing Global Services', r'\\BGS\\b', 'AnalytX', r'\\bCSP\\b'],\n",
    "    12 : ['MTU Hannover', 'MTU Maintenance', 'MTU Zhuhai', 'MTU Canada', 'MTU Brandenburg', 'MTU Dallas', 'EME Aero', \n",
    "        'EME.Aero', 'MTU Maintenance Serbia'],\n",
    "    13 : ['GE Engine Services', 'GEES', r'\\bCFM\\b', 'CFMI', 'LEAP', r'\\bGE\\b', 'GE Celma', 'GE Wales', 'PHB', 'TRUEngines'],\n",
    "    14 : [r'\\bRR\\b', 'Rolls', 'Trent', r'\\bTAY\\b', 'SPEY', 'RB211', 'Total Care', 'PBH Total Care'],\n",
    "    15 : ['Pratt&Whitney', 'Pratt & Whitney', 'Collins Aerospace', r'\\bPW\\b', 'P&W', 'Pratt', 'Hamilton Sundstrand', r'\\bUTC\\b', 'UTAS', \n",
    "        'United Technologies', 'Rockwell-Collins', 'Goodrich', 'Raytheon'],\n",
    "    16 : ['CFMI', r'\\bCFM\\b', 'Messier', 'Dowty', 'Zodiac', 'LEAP', 'SNECMA', 'Messier-Bugatti-Dowty', 'Safran Engineering Services'],\n",
    "    17 : ['Nayak'],\n",
    "    18 : ['Lufthansa Technik'],\n",
    "    19 : ['Aerostar', 'Aerostar S.A', 'Group Industrial Aeronautic Bacau']\n",
    "}"
   ]
  },
  {
   "cell_type": "code",
   "execution_count": 16,
   "metadata": {},
   "outputs": [],
   "source": [
    "competitor_name = { 1 : 'Air France Industrie KLM Engineering & Maintenance', \n",
    "                    2 : 'Delta TechOps', \n",
    "                    3 : 'Singapore Airlines Engineering Company', \n",
    "                    4 : 'Turkish Technic', \n",
    "                    5 : 'AJ Walter', \n",
    "                    6 : 'SR Technics', \n",
    "                    7 : 'ST Aerospace', \n",
    "                    8 : 'StandardAero', \n",
    "                    9 : 'AAR', \n",
    "                    10 : 'Airbus', \n",
    "                    11 : 'Boeing', \n",
    "                    12 : 'MTU', \n",
    "                    13 : 'GE Aviation', \n",
    "                    14 : 'Rolls-Royce', \n",
    "                    15 : 'Raytheon Technologies', \n",
    "                    16 : 'SAFRAN', \n",
    "                    17 : 'Nayak',\n",
    "                    18 : 'Lufthansa Technik',\n",
    "                    19 : 'Aerostar'\n",
    "                    }"
   ]
  },
  {
   "cell_type": "code",
   "execution_count": 17,
   "metadata": {},
   "outputs": [],
   "source": [
    "provider = get_data('SELECT * FROM capstone.jobs')"
   ]
  },
  {
   "cell_type": "code",
   "execution_count": 19,
   "metadata": {},
   "outputs": [],
   "source": [
    "def match_company_name(df):\n",
    "    \n",
    "    for row in range(len(df)):\n",
    "        print(row)\n",
    "        xyz = 0\n",
    "        for key in competitor_name:\n",
    "            print(df['company_name'][row])\n",
    "            print(competitor_name[key])\n",
    "            print('--------')\n",
    "            if df['company_name'][row].lower() in competitor_name[key].lower():\n",
    "                print(f'if - {key}')\n",
    "                print(competitor_name[key])\n",
    "                print('---------------')\n",
    "                save_provider(df['id'][row], key, competitor_name[key])\n",
    "                xyz = 1\n",
    "                break\n",
    "        if xyz != 1:\n",
    "            print('hab nix gefunden')\n",
    "            for item in provider_keywords:\n",
    "                for word in provider_keywords[item]:\n",
    "                    print(f'else-loop {word}')\n",
    "\n",
    "                    provider_low = provider['job_title_en'][row].lower()\n",
    "                    keyword_low = word.lower()\n",
    "\n",
    "                    if provider_low.find(keyword_low) != -1:\n",
    "                        save_provider(df['id'][row], item, word)\n",
    "                    else:\n",
    "                        provider_low = provider['job_description'][row].lower()\n",
    "                        keyword_low = word.lower()\n",
    "                        if provider_low.find(keyword_low) != -1:\n",
    "                            save_provider(df['id'][row], item, word)"
   ]
  },
  {
   "cell_type": "code",
   "execution_count": null,
   "metadata": {},
   "outputs": [],
   "source": [
    "match_company_name(provider)"
   ]
  },
  {
   "cell_type": "code",
   "execution_count": 20,
   "metadata": {},
   "outputs": [],
   "source": [
    "def save_provider(jobs_id, competitor_id, keyword):\n",
    "    connection = psycopg2.connect(user=\"postgres\",\n",
    "                                    password=\"]+Dr\\DXm()`o=L:+\",\n",
    "                                    host=\"35.234.81.23\",\n",
    "                                    port=\"5432\",\n",
    "                                    database=\"postgres\")\n",
    "    \n",
    "    try:\n",
    "        \n",
    "        cursor = connection.cursor()\n",
    "\n",
    "        postgres_insert_query = f\"INSERT INTO capstone.jobs_provider (jobs_id, competitor_id, matching_keyword) VALUES ({jobs_id}, {competitor_id}, '{keyword}')\"\n",
    "        print(postgres_insert_query)\n",
    "        cursor.execute(postgres_insert_query)\n",
    "\n",
    "        connection.commit()\n",
    "        count = cursor.rowcount\n",
    "        print(count, \"Record inserted successfully into mobile table\")\n",
    "\n",
    "    except (Exception, psycopg2.Error) as error:\n",
    "        print(\"Failed to insert record into mobile table\", error)\n",
    "\n",
    "    finally:\n",
    "        # closing database connection.\n",
    "        if connection:\n",
    "            cursor.close()\n",
    "            connection.close()\n",
    "            print(\"PostgreSQL connection is closed\")"
   ]
  },
  {
   "cell_type": "code",
   "execution_count": null,
   "metadata": {},
   "outputs": [],
   "source": []
  }
 ],
 "metadata": {
  "interpreter": {
   "hash": "43c12cbf984401a473fdf5ad54be096b36364cb85034417d000695974821cc3f"
  },
  "kernelspec": {
   "display_name": "Python 3.9.12 ('sql-practice')",
   "language": "python",
   "name": "python3"
  },
  "language_info": {
   "codemirror_mode": {
    "name": "ipython",
    "version": 3
   },
   "file_extension": ".py",
   "mimetype": "text/x-python",
   "name": "python",
   "nbconvert_exporter": "python",
   "pygments_lexer": "ipython3",
   "version": "3.9.12"
  },
  "orig_nbformat": 4
 },
 "nbformat": 4,
 "nbformat_minor": 2
}
